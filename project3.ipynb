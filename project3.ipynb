{
 "cells": [
  {
   "cell_type": "markdown",
   "metadata": {},
   "source": [
    "### Install missing packages to kernel...\n"
   ]
  },
  {
   "cell_type": "code",
   "execution_count": null,
   "metadata": {},
   "outputs": [],
   "source": []
  },
  {
   "cell_type": "markdown",
   "metadata": {},
   "source": [
    "### Import packages..."
   ]
  },
  {
   "cell_type": "code",
   "execution_count": null,
   "metadata": {},
   "outputs": [],
   "source": []
  },
  {
   "cell_type": "markdown",
   "metadata": {},
   "source": [
    "# CSDS-435: Project #3\n",
    "# Adam Brennan and Madi Edge"
   ]
  },
  {
   "cell_type": "markdown",
   "metadata": {},
   "source": [
    "## Helper Functions..."
   ]
  },
  {
   "cell_type": "code",
   "execution_count": null,
   "metadata": {},
   "outputs": [],
   "source": []
  },
  {
   "cell_type": "code",
   "execution_count": null,
   "metadata": {},
   "outputs": [],
   "source": []
  },
  {
   "cell_type": "code",
   "execution_count": null,
   "metadata": {},
   "outputs": [],
   "source": []
  },
  {
   "cell_type": "code",
   "execution_count": null,
   "metadata": {},
   "outputs": [],
   "source": []
  },
  {
   "cell_type": "code",
   "execution_count": null,
   "metadata": {},
   "outputs": [],
   "source": []
  },
  {
   "cell_type": "code",
   "execution_count": null,
   "metadata": {},
   "outputs": [],
   "source": []
  },
  {
   "cell_type": "code",
   "execution_count": null,
   "metadata": {},
   "outputs": [],
   "source": []
  },
  {
   "cell_type": "code",
   "execution_count": null,
   "metadata": {},
   "outputs": [],
   "source": []
  },
  {
   "cell_type": "code",
   "execution_count": null,
   "metadata": {},
   "outputs": [],
   "source": []
  },
  {
   "cell_type": "code",
   "execution_count": null,
   "metadata": {},
   "outputs": [],
   "source": []
  },
  {
   "cell_type": "code",
   "execution_count": null,
   "metadata": {},
   "outputs": [],
   "source": []
  },
  {
   "cell_type": "code",
   "execution_count": null,
   "metadata": {},
   "outputs": [],
   "source": []
  },
  {
   "cell_type": "code",
   "execution_count": null,
   "metadata": {},
   "outputs": [],
   "source": []
  },
  {
   "cell_type": "code",
   "execution_count": null,
   "metadata": {},
   "outputs": [],
   "source": []
  },
  {
   "cell_type": "code",
   "execution_count": null,
   "metadata": {},
   "outputs": [],
   "source": []
  },
  {
   "cell_type": "markdown",
   "metadata": {},
   "source": [
    "## Random"
   ]
  },
  {
   "cell_type": "code",
   "execution_count": null,
   "metadata": {},
   "outputs": [
    {
     "name": "stdout",
     "output_type": "stream",
     "text": [
      "Evaluating RMSE, MAE of algorithm NormalPredictor on 5 split(s).\n",
      "\n",
      "                  Fold 1  Fold 2  Fold 3  Fold 4  Fold 5  Mean    Std     \n",
      "RMSE (testset)    1.5114  1.5198  1.5269  1.5113  1.5249  1.5189  0.0065  \n",
      "MAE (testset)     1.2144  1.2199  1.2237  1.2151  1.2270  1.2200  0.0049  \n",
      "Fit time          0.03    0.04    0.03    0.04    0.03    0.03    0.00    \n",
      "Test time         0.09    0.02    0.02    0.09    0.02    0.05    0.03    \n",
      "Evaluating RMSE, MAE of algorithm NormalPredictor on 5 split(s).\n",
      "\n",
      "                  Fold 1  Fold 2  Fold 3  Fold 4  Fold 5  Mean    Std     \n",
      "RMSE (testset)    1.5199  1.5182  1.5132  1.5242  1.5018  1.5155  0.0077  \n",
      "MAE (testset)     1.2216  1.2161  1.2119  1.2254  1.2071  1.2164  0.0066  \n",
      "Fit time          0.03    0.03    0.04    0.03    0.04    0.03    0.00    \n",
      "Test time         0.02    0.09    0.02    0.02    0.04    0.04    0.02    \n",
      "Evaluating RMSE, MAE of algorithm NormalPredictor on 5 split(s).\n",
      "\n",
      "                  Fold 1  Fold 2  Fold 3  Fold 4  Fold 5  Mean    Std     \n",
      "RMSE (testset)    1.5278  1.5238  1.5331  1.5065  1.5241  1.5230  0.0089  \n",
      "MAE (testset)     1.2257  1.2231  1.2346  1.2086  1.2263  1.2237  0.0085  \n",
      "Fit time          0.04    0.07    0.05    0.04    0.03    0.05    0.01    \n",
      "Test time         0.04    0.13    0.03    0.03    0.02    0.05    0.04    \n",
      "Evaluating RMSE, MAE of algorithm NormalPredictor on 5 split(s).\n",
      "\n",
      "                  Fold 1  Fold 2  Fold 3  Fold 4  Fold 5  Mean    Std     \n",
      "RMSE (testset)    1.5195  1.5221  1.5200  1.5220  1.5282  1.5224  0.0031  \n",
      "MAE (testset)     1.2204  1.2225  1.2205  1.2222  1.2260  1.2223  0.0020  \n",
      "Fit time          0.03    0.03    0.03    0.03    0.03    0.03    0.00    \n",
      "Test time         0.02    0.08    0.02    0.02    0.02    0.04    0.02    \n",
      "Evaluating RMSE, MAE of algorithm NormalPredictor on 5 split(s).\n",
      "\n",
      "                  Fold 1  Fold 2  Fold 3  Fold 4  Fold 5  Mean    Std     \n",
      "RMSE (testset)    1.5134  1.5240  1.5269  1.5191  1.5281  1.5223  0.0054  \n",
      "MAE (testset)     1.2166  1.2212  1.2271  1.2202  1.2267  1.2223  0.0040  \n",
      "Fit time          0.03    0.03    0.04    0.03    0.03    0.03    0.00    \n",
      "Test time         0.02    0.08    0.02    0.02    0.09    0.05    0.03    \n",
      "Evaluating RMSE, MAE of algorithm NormalPredictor on 5 split(s).\n",
      "\n",
      "                  Fold 1  Fold 2  Fold 3  Fold 4  Fold 5  Mean    Std     \n",
      "RMSE (testset)    1.5236  1.5205  1.5241  1.5000  1.5271  1.5191  0.0097  \n",
      "MAE (testset)     1.2231  1.2211  1.2214  1.2026  1.2237  1.2184  0.0080  \n",
      "Fit time          0.03    0.03    0.04    0.03    0.03    0.03    0.00    \n",
      "Test time         0.02    0.02    0.02    0.02    0.08    0.04    0.02    \n",
      "Evaluating RMSE, MAE of algorithm NormalPredictor on 5 split(s).\n",
      "\n",
      "                  Fold 1  Fold 2  Fold 3  Fold 4  Fold 5  Mean    Std     \n",
      "RMSE (testset)    1.5139  1.5159  1.5260  1.5133  1.5166  1.5171  0.0046  \n",
      "MAE (testset)     1.2124  1.2198  1.2248  1.2149  1.2185  1.2181  0.0043  \n",
      "Fit time          0.03    0.03    0.03    0.03    0.04    0.03    0.00    \n",
      "Test time         0.02    0.02    0.08    0.03    0.03    0.04    0.02    \n",
      "Evaluating RMSE, MAE of algorithm NormalPredictor on 5 split(s).\n",
      "\n",
      "                  Fold 1  Fold 2  Fold 3  Fold 4  Fold 5  Mean    Std     \n",
      "RMSE (testset)    1.5095  1.5239  1.5207  1.5121  1.5234  1.5179  0.0060  \n",
      "MAE (testset)     1.2132  1.2249  1.2189  1.2125  1.2237  1.2186  0.0051  \n",
      "Fit time          0.04    0.05    0.03    0.03    0.03    0.04    0.00    \n",
      "Test time         0.03    0.02    0.09    0.02    0.02    0.04    0.02    \n",
      "Best seed: 2.0\n"
     ]
    }
   ],
   "source": [
    "from surprise import NormalPredictor \n",
    "from surprise import Dataset \n",
    "from surprise.model_selection import cross_validate\n",
    "import numpy as np\n",
    "import pandas as pd\n",
    "\n",
    "# Load small MovieLens 100K dataset \n",
    "data = Dataset.load_builtin('ml-100k')\n",
    "\n",
    "# Hyperparameter analysis function \n",
    "def analyze_rand_hyperparameters():\n",
    "    # Store results \n",
    "    results = [] \n",
    "\n",
    "    # Test different random seed values \n",
    "    seed_values = [1, 2, 42, 102, 163, 251, 337, 1024]\n",
    "\n",
    "    for seed in seed_values:\n",
    "        # random seed values \n",
    "        np.random.seed(seed)\n",
    "\n",
    "        # create predictor \n",
    "        predictor = NormalPredictor()\n",
    "\n",
    "        # run 5-fold cross-validation \n",
    "        cv_results = cross_validate(predictor, data, measures=['RMSE', 'MAE'], cv=5, verbose=True)\n",
    "\n",
    "        # Store mean RMSE result \n",
    "        results.append({\n",
    "            'seed': seed,\n",
    "            'Mean RMSE': np.mean(cv_results['test_rmse'])\n",
    "        }) \n",
    "\n",
    "    # convert to dataframe \n",
    "    results_df = pd.DataFrame(results)\n",
    "\n",
    "    # sort by RMSE\n",
    "    best_seed = results_df.sort_values(by='Mean RMSE').iloc[0]['seed']\n",
    "    print(f'Best seed: {best_seed}')\n",
    "\n",
    "    # return results\n",
    "    return results_df\n",
    "\n",
    "# Run hyperparameter analysis\n",
    "analysis_results = analyze_rand_hyperparameters() "
   ]
  },
  {
   "cell_type": "markdown",
   "metadata": {},
   "source": [
    "## KNN"
   ]
  },
  {
   "cell_type": "code",
   "execution_count": 15,
   "metadata": {},
   "outputs": [
    {
     "name": "stdout",
     "output_type": "stream",
     "text": [
      "Computing the msd similarity matrix...\n",
      "Done computing similarity matrix.\n",
      "Computing the msd similarity matrix...\n",
      "Done computing similarity matrix.\n",
      "Computing the msd similarity matrix...\n",
      "Done computing similarity matrix.\n",
      "Computing the msd similarity matrix...\n",
      "Done computing similarity matrix.\n",
      "Computing the msd similarity matrix...\n",
      "Done computing similarity matrix.\n",
      "Evaluating RMSE, MAE of algorithm KNNWithMeans on 5 split(s).\n",
      "\n",
      "                  Fold 1  Fold 2  Fold 3  Fold 4  Fold 5  Mean    Std     \n",
      "RMSE (testset)    1.2442  1.2542  1.2556  1.2547  1.2385  1.2495  0.0069  \n",
      "MAE (testset)     0.9699  0.9763  0.9773  0.9790  0.9648  0.9735  0.0053  \n",
      "Fit time          0.10    0.10    0.10    0.10    0.10    0.10    0.00    \n",
      "Test time         0.55    0.47    0.65    0.46    0.47    0.52    0.07    \n",
      "Computing the msd similarity matrix...\n",
      "Done computing similarity matrix.\n",
      "Computing the msd similarity matrix...\n",
      "Done computing similarity matrix.\n",
      "Computing the msd similarity matrix...\n",
      "Done computing similarity matrix.\n",
      "Computing the msd similarity matrix...\n",
      "Done computing similarity matrix.\n",
      "Computing the msd similarity matrix...\n",
      "Done computing similarity matrix.\n",
      "Evaluating RMSE, MAE of algorithm KNNWithMeans on 5 split(s).\n",
      "\n",
      "                  Fold 1  Fold 2  Fold 3  Fold 4  Fold 5  Mean    Std     \n",
      "RMSE (testset)    1.0182  1.0029  1.0075  1.0204  1.0168  1.0132  0.0068  \n",
      "MAE (testset)     0.8023  0.7913  0.7935  0.8072  0.8018  0.7992  0.0059  \n",
      "Fit time          0.10    0.10    0.10    0.10    0.10    0.10    0.00    \n",
      "Test time         0.63    0.56    0.59    0.62    0.56    0.59    0.03    \n",
      "Computing the msd similarity matrix...\n",
      "Done computing similarity matrix.\n",
      "Computing the msd similarity matrix...\n",
      "Done computing similarity matrix.\n",
      "Computing the msd similarity matrix...\n",
      "Done computing similarity matrix.\n",
      "Computing the msd similarity matrix...\n",
      "Done computing similarity matrix.\n",
      "Computing the msd similarity matrix...\n",
      "Done computing similarity matrix.\n",
      "Evaluating RMSE, MAE of algorithm KNNWithMeans on 5 split(s).\n",
      "\n",
      "                  Fold 1  Fold 2  Fold 3  Fold 4  Fold 5  Mean    Std     \n",
      "RMSE (testset)    0.9765  0.9751  0.9810  0.9703  0.9758  0.9758  0.0034  \n",
      "MAE (testset)     0.7714  0.7671  0.7758  0.7636  0.7720  0.7700  0.0042  \n",
      "Fit time          0.10    0.11    0.10    0.10    0.10    0.10    0.01    \n",
      "Test time         0.70    0.63    0.63    0.69    0.63    0.66    0.03    \n",
      "Computing the msd similarity matrix...\n",
      "Done computing similarity matrix.\n",
      "Computing the msd similarity matrix...\n",
      "Done computing similarity matrix.\n",
      "Computing the msd similarity matrix...\n",
      "Done computing similarity matrix.\n",
      "Computing the msd similarity matrix...\n",
      "Done computing similarity matrix.\n",
      "Computing the msd similarity matrix...\n",
      "Done computing similarity matrix.\n",
      "Evaluating RMSE, MAE of algorithm KNNWithMeans on 5 split(s).\n",
      "\n",
      "                  Fold 1  Fold 2  Fold 3  Fold 4  Fold 5  Mean    Std     \n",
      "RMSE (testset)    0.9517  0.9540  0.9595  0.9626  0.9589  0.9573  0.0039  \n",
      "MAE (testset)     0.7501  0.7524  0.7566  0.7579  0.7580  0.7550  0.0032  \n",
      "Fit time          0.10    0.10    0.10    0.10    0.10    0.10    0.00    \n",
      "Test time         0.75    0.81    0.75    0.81    0.75    0.78    0.03    \n",
      "Computing the msd similarity matrix...\n",
      "Done computing similarity matrix.\n",
      "Computing the msd similarity matrix...\n",
      "Done computing similarity matrix.\n",
      "Computing the msd similarity matrix...\n",
      "Done computing similarity matrix.\n",
      "Computing the msd similarity matrix...\n",
      "Done computing similarity matrix.\n",
      "Computing the msd similarity matrix...\n",
      "Done computing similarity matrix.\n",
      "Evaluating RMSE, MAE of algorithm KNNWithMeans on 5 split(s).\n",
      "\n",
      "                  Fold 1  Fold 2  Fold 3  Fold 4  Fold 5  Mean    Std     \n",
      "RMSE (testset)    0.9529  0.9466  0.9497  0.9555  0.9482  0.9506  0.0032  \n",
      "MAE (testset)     0.7515  0.7451  0.7483  0.7536  0.7467  0.7490  0.0031  \n",
      "Fit time          0.10    0.10    0.11    0.10    0.11    0.10    0.00    \n",
      "Test time         1.01    1.09    1.02    1.02    1.14    1.06    0.05    \n",
      "Computing the msd similarity matrix...\n",
      "Done computing similarity matrix.\n",
      "Computing the msd similarity matrix...\n",
      "Done computing similarity matrix.\n",
      "Computing the msd similarity matrix...\n",
      "Done computing similarity matrix.\n",
      "Computing the msd similarity matrix...\n",
      "Done computing similarity matrix.\n",
      "Computing the msd similarity matrix...\n",
      "Done computing similarity matrix.\n",
      "Evaluating RMSE, MAE of algorithm KNNWithMeans on 5 split(s).\n",
      "\n",
      "                  Fold 1  Fold 2  Fold 3  Fold 4  Fold 5  Mean    Std     \n",
      "RMSE (testset)    0.9525  0.9517  0.9486  0.9546  0.9510  0.9517  0.0020  \n",
      "MAE (testset)     0.7501  0.7477  0.7454  0.7510  0.7504  0.7489  0.0021  \n",
      "Fit time          0.12    0.12    0.11    0.10    0.10    0.11    0.01    \n",
      "Test time         1.38    1.43    1.24    1.24    1.38    1.34    0.08    \n",
      "Best k: 50.0\n"
     ]
    }
   ],
   "source": [
    "from surprise import KNNWithMeans\n",
    "from surprise import Dataset \n",
    "from surprise.model_selection import cross_validate\n",
    "import numpy as np\n",
    "import pandas as pd\n",
    "\n",
    "# Load small MovieLens 100K dataset \n",
    "data = Dataset.load_builtin('ml-100k')\n",
    "\n",
    "# Hyperparameter analysis function \n",
    "def analyze_knn_hyperparameters():\n",
    "\n",
    "    # range of k values \n",
    "    k_values = [1, 5, 10, 20, 50, 100]\n",
    "\n",
    "    # store results \n",
    "    results = []\n",
    "\n",
    "    # Iterate over k values \n",
    "    for k in k_values:\n",
    "        algo = KNNWithMeans(k=k)\n",
    "\n",
    "        # run 5-fold cross-validation \n",
    "        cv_results = cross_validate(algo, data, measures=['RMSE', 'MAE'], cv=5, verbose=True)\n",
    "\n",
    "        # Store mean RMSE result\n",
    "        results.append({\n",
    "            'k': k,\n",
    "            'Mean RMSE': np.mean(cv_results['test_rmse'])\n",
    "        })\n",
    "\n",
    "    # convert to dataframe \n",
    "    results_df = pd.DataFrame(results)\n",
    "\n",
    "    # sort by RMSE\n",
    "    best_k = results_df.sort_values(by='Mean RMSE').iloc[0]['k']\n",
    "    print(f'Best k: {best_k}')\n",
    "\n",
    "    # return results\n",
    "    return results_df\n",
    "\n",
    "# Run hyperparameter analysis\n",
    "analysis_results = analyze_knn_hyperparameters()    \n",
    "\n"
   ]
  },
  {
   "cell_type": "markdown",
   "metadata": {},
   "source": [
    "## SVD"
   ]
  },
  {
   "cell_type": "markdown",
   "metadata": {},
   "source": [
    "## Matrix Factorization W/ Regularization"
   ]
  },
  {
   "cell_type": "markdown",
   "metadata": {},
   "source": [
    "## Deep Neural Network"
   ]
  },
  {
   "cell_type": "markdown",
   "metadata": {},
   "source": [
    "## Compare Algorithms "
   ]
  }
 ],
 "metadata": {
  "kernelspec": {
   "display_name": "base",
   "language": "python",
   "name": "python3"
  },
  "language_info": {
   "codemirror_mode": {
    "name": "ipython",
    "version": 3
   },
   "file_extension": ".py",
   "mimetype": "text/x-python",
   "name": "python",
   "nbconvert_exporter": "python",
   "pygments_lexer": "ipython3",
   "version": "3.11.5"
  }
 },
 "nbformat": 4,
 "nbformat_minor": 2
}
