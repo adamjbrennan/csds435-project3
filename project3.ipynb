{
 "cells": [
  {
   "cell_type": "markdown",
   "metadata": {},
   "source": [
    "### Install missing packages to kernel...\n"
   ]
  },
  {
   "cell_type": "code",
   "execution_count": null,
   "metadata": {},
   "outputs": [],
   "source": []
  },
  {
   "cell_type": "markdown",
   "metadata": {},
   "source": [
    "### Import packages..."
   ]
  },
  {
   "cell_type": "code",
   "execution_count": null,
   "metadata": {},
   "outputs": [],
   "source": []
  },
  {
   "cell_type": "markdown",
   "metadata": {},
   "source": [
    "# CSDS-435: Project #3\n",
    "# Adam Brennan and Madi Edge"
   ]
  },
  {
   "cell_type": "markdown",
   "metadata": {},
   "source": [
    "## Helper Functions..."
   ]
  },
  {
   "cell_type": "code",
   "execution_count": null,
   "metadata": {},
   "outputs": [],
   "source": []
  },
  {
   "cell_type": "code",
   "execution_count": null,
   "metadata": {},
   "outputs": [],
   "source": []
  },
  {
   "cell_type": "code",
   "execution_count": null,
   "metadata": {},
   "outputs": [],
   "source": []
  },
  {
   "cell_type": "code",
   "execution_count": null,
   "metadata": {},
   "outputs": [],
   "source": []
  },
  {
   "cell_type": "code",
   "execution_count": null,
   "metadata": {},
   "outputs": [],
   "source": []
  },
  {
   "cell_type": "code",
   "execution_count": null,
   "metadata": {},
   "outputs": [],
   "source": []
  },
  {
   "cell_type": "code",
   "execution_count": null,
   "metadata": {},
   "outputs": [],
   "source": []
  },
  {
   "cell_type": "code",
   "execution_count": null,
   "metadata": {},
   "outputs": [],
   "source": []
  },
  {
   "cell_type": "code",
   "execution_count": null,
   "metadata": {},
   "outputs": [],
   "source": []
  },
  {
   "cell_type": "code",
   "execution_count": null,
   "metadata": {},
   "outputs": [],
   "source": []
  },
  {
   "cell_type": "code",
   "execution_count": null,
   "metadata": {},
   "outputs": [],
   "source": []
  },
  {
   "cell_type": "code",
   "execution_count": null,
   "metadata": {},
   "outputs": [],
   "source": []
  },
  {
   "cell_type": "code",
   "execution_count": null,
   "metadata": {},
   "outputs": [],
   "source": []
  },
  {
   "cell_type": "code",
   "execution_count": null,
   "metadata": {},
   "outputs": [],
   "source": []
  },
  {
   "cell_type": "code",
   "execution_count": null,
   "metadata": {},
   "outputs": [],
   "source": []
  },
  {
   "cell_type": "markdown",
   "metadata": {},
   "source": [
    "## Random"
   ]
  },
  {
   "cell_type": "code",
   "execution_count": 9,
   "metadata": {},
   "outputs": [
    {
     "name": "stdout",
     "output_type": "stream",
     "text": [
      "Evaluating RMSE, MAE of algorithm NormalPredictor on 5 split(s).\n",
      "\n",
      "                  Fold 1  Fold 2  Fold 3  Fold 4  Fold 5  Mean    Std     \n",
      "RMSE (testset)    1.5114  1.5198  1.5269  1.5113  1.5249  1.5189  0.0065  \n",
      "MAE (testset)     1.2144  1.2199  1.2237  1.2151  1.2270  1.2200  0.0049  \n",
      "Fit time          0.03    0.03    0.03    0.03    0.03    0.03    0.00    \n",
      "Test time         0.03    0.02    0.02    0.02    0.08    0.04    0.02    \n",
      "Evaluating RMSE, MAE of algorithm NormalPredictor on 5 split(s).\n",
      "\n",
      "                  Fold 1  Fold 2  Fold 3  Fold 4  Fold 5  Mean    Std     \n",
      "RMSE (testset)    1.5199  1.5182  1.5132  1.5242  1.5018  1.5155  0.0077  \n",
      "MAE (testset)     1.2216  1.2161  1.2119  1.2254  1.2071  1.2164  0.0066  \n",
      "Fit time          0.03    0.04    0.03    0.03    0.03    0.03    0.00    \n",
      "Test time         0.02    0.02    0.02    0.09    0.03    0.04    0.02    \n",
      "Evaluating RMSE, MAE of algorithm NormalPredictor on 5 split(s).\n",
      "\n",
      "                  Fold 1  Fold 2  Fold 3  Fold 4  Fold 5  Mean    Std     \n",
      "RMSE (testset)    1.5278  1.5238  1.5331  1.5065  1.5241  1.5230  0.0089  \n",
      "MAE (testset)     1.2257  1.2231  1.2346  1.2086  1.2263  1.2237  0.0085  \n",
      "Fit time          0.03    0.03    0.04    0.03    0.03    0.03    0.00    \n",
      "Test time         0.02    0.02    0.03    0.09    0.02    0.04    0.03    \n",
      "Evaluating RMSE, MAE of algorithm NormalPredictor on 5 split(s).\n",
      "\n",
      "                  Fold 1  Fold 2  Fold 3  Fold 4  Fold 5  Mean    Std     \n",
      "RMSE (testset)    1.5195  1.5221  1.5200  1.5220  1.5282  1.5224  0.0031  \n",
      "MAE (testset)     1.2204  1.2225  1.2205  1.2222  1.2260  1.2223  0.0020  \n",
      "Fit time          0.03    0.03    0.03    0.03    0.03    0.03    0.00    \n",
      "Test time         0.02    0.03    0.08    0.02    0.02    0.04    0.02    \n",
      "Evaluating RMSE, MAE of algorithm NormalPredictor on 5 split(s).\n",
      "\n",
      "                  Fold 1  Fold 2  Fold 3  Fold 4  Fold 5  Mean    Std     \n",
      "RMSE (testset)    1.5134  1.5240  1.5269  1.5191  1.5281  1.5223  0.0054  \n",
      "MAE (testset)     1.2166  1.2212  1.2271  1.2202  1.2267  1.2223  0.0040  \n",
      "Fit time          0.03    0.03    0.03    0.03    0.03    0.03    0.00    \n",
      "Test time         0.02    0.02    0.08    0.02    0.02    0.04    0.02    \n",
      "Evaluating RMSE, MAE of algorithm NormalPredictor on 5 split(s).\n",
      "\n",
      "                  Fold 1  Fold 2  Fold 3  Fold 4  Fold 5  Mean    Std     \n",
      "RMSE (testset)    1.5236  1.5205  1.5241  1.5000  1.5271  1.5191  0.0097  \n",
      "MAE (testset)     1.2231  1.2211  1.2214  1.2026  1.2237  1.2184  0.0080  \n",
      "Fit time          0.03    0.03    0.03    0.03    0.03    0.03    0.00    \n",
      "Test time         0.02    0.02    0.08    0.02    0.02    0.04    0.02    \n",
      "Evaluating RMSE, MAE of algorithm NormalPredictor on 5 split(s).\n",
      "\n",
      "                  Fold 1  Fold 2  Fold 3  Fold 4  Fold 5  Mean    Std     \n",
      "RMSE (testset)    1.5139  1.5159  1.5260  1.5133  1.5166  1.5171  0.0046  \n",
      "MAE (testset)     1.2124  1.2198  1.2248  1.2149  1.2185  1.2181  0.0043  \n",
      "Fit time          0.03    0.03    0.03    0.03    0.03    0.03    0.00    \n",
      "Test time         0.02    0.08    0.02    0.02    0.02    0.04    0.02    \n",
      "Evaluating RMSE, MAE of algorithm NormalPredictor on 5 split(s).\n",
      "\n",
      "                  Fold 1  Fold 2  Fold 3  Fold 4  Fold 5  Mean    Std     \n",
      "RMSE (testset)    1.5095  1.5239  1.5207  1.5121  1.5234  1.5179  0.0060  \n",
      "MAE (testset)     1.2132  1.2249  1.2189  1.2125  1.2237  1.2186  0.0051  \n",
      "Fit time          0.03    0.03    0.03    0.03    0.03    0.03    0.00    \n",
      "Test time         0.02    0.08    0.02    0.03    0.02    0.04    0.02    \n",
      "Best seed: 2.0\n"
     ]
    }
   ],
   "source": [
    "from surprise import NormalPredictor \n",
    "from surprise import Dataset \n",
    "from surprise.model_selection import cross_validate\n",
    "import numpy as np\n",
    "import pandas as pd\n",
    "\n",
    "# Load small MovieLens 100K dataset \n",
    "data = Dataset.load_builtin('ml-100k')\n",
    "\n",
    "# Hyperparameter analysis function \n",
    "def analyze_rand_hyperparameters():\n",
    "    # Store results \n",
    "    results = [] \n",
    "\n",
    "    # Test different random seed values \n",
    "    seed_values = [1, 2, 42, 102, 163, 251, 337, 1024]\n",
    "\n",
    "    for seed in seed_values:\n",
    "        # random seed values \n",
    "        np.random.seed(seed)\n",
    "\n",
    "        # create predictor \n",
    "        predictor = NormalPredictor()\n",
    "\n",
    "        # run 5-fold cross-validation \n",
    "        cv_results = cross_validate(predictor, data, measures=['RMSE', 'MAE'], cv=5, verbose=True)\n",
    "\n",
    "        # Store mean RMSE result \n",
    "        results.append({\n",
    "            'seed': seed,\n",
    "            'Mean RMSE': np.mean(cv_results['test_rmse'])\n",
    "        }) \n",
    "\n",
    "    # convert to dataframe \n",
    "    results_df = pd.DataFrame(results)\n",
    "\n",
    "    # sort by RMSE\n",
    "    best_seed = results_df.sort_values(by='Mean RMSE').iloc[0]['seed']\n",
    "    print(f'Best seed: {best_seed}')\n",
    "\n",
    "    # return results\n",
    "    return results_df\n",
    "\n",
    "# Run hyperparameter analysis\n",
    "analysis_results = analyze_rand_hyperparameters() "
   ]
  },
  {
   "cell_type": "markdown",
   "metadata": {},
   "source": [
    "## KNN"
   ]
  },
  {
   "cell_type": "code",
   "execution_count": 3,
   "metadata": {},
   "outputs": [
    {
     "name": "stdout",
     "output_type": "stream",
     "text": [
      "Computing the msd similarity matrix...\n",
      "Done computing similarity matrix.\n",
      "Computing the msd similarity matrix...\n",
      "Done computing similarity matrix.\n",
      "Computing the msd similarity matrix...\n",
      "Done computing similarity matrix.\n",
      "Computing the msd similarity matrix...\n",
      "Done computing similarity matrix.\n",
      "Computing the msd similarity matrix...\n",
      "Done computing similarity matrix.\n",
      "Evaluating RMSE, MAE of algorithm KNNBasic on 5 split(s).\n",
      "\n",
      "                  Fold 1  Fold 2  Fold 3  Fold 4  Fold 5  Mean    Std     \n",
      "RMSE (testset)    1.1865  1.1680  1.1572  1.1570  1.1605  1.1658  0.0111  \n",
      "MAE (testset)     0.8845  0.8699  0.8639  0.8650  0.8677  0.8702  0.0074  \n",
      "Fit time          0.03    0.04    0.04    0.04    0.04    0.04    0.00    \n",
      "Test time         0.26    0.21    0.23    0.19    0.19    0.21    0.03    \n",
      "Computing the msd similarity matrix...\n",
      "Done computing similarity matrix.\n",
      "Computing the msd similarity matrix...\n",
      "Done computing similarity matrix.\n",
      "Computing the msd similarity matrix...\n",
      "Done computing similarity matrix.\n",
      "Computing the msd similarity matrix...\n",
      "Done computing similarity matrix.\n",
      "Computing the msd similarity matrix...\n",
      "Done computing similarity matrix.\n",
      "Evaluating RMSE, MAE of algorithm KNNBasic on 5 split(s).\n",
      "\n",
      "                  Fold 1  Fold 2  Fold 3  Fold 4  Fold 5  Mean    Std     \n",
      "RMSE (testset)    0.9540  0.9573  0.9548  0.9522  0.9644  0.9565  0.0043  \n",
      "MAE (testset)     0.7284  0.7294  0.7252  0.7249  0.7378  0.7291  0.0047  \n",
      "Fit time          0.03    0.04    0.04    0.04    0.04    0.04    0.00    \n",
      "Test time         0.28    0.25    0.28    0.25    0.30    0.27    0.02    \n",
      "Computing the msd similarity matrix...\n",
      "Done computing similarity matrix.\n",
      "Computing the msd similarity matrix...\n",
      "Done computing similarity matrix.\n",
      "Computing the msd similarity matrix...\n",
      "Done computing similarity matrix.\n",
      "Computing the msd similarity matrix...\n",
      "Done computing similarity matrix.\n",
      "Computing the msd similarity matrix...\n",
      "Done computing similarity matrix.\n",
      "Evaluating RMSE, MAE of algorithm KNNBasic on 5 split(s).\n",
      "\n",
      "                  Fold 1  Fold 2  Fold 3  Fold 4  Fold 5  Mean    Std     \n",
      "RMSE (testset)    0.9477  0.9440  0.9401  0.9353  0.9348  0.9404  0.0049  \n",
      "MAE (testset)     0.7219  0.7200  0.7135  0.7135  0.7137  0.7165  0.0037  \n",
      "Fit time          0.03    0.04    0.04    0.04    0.04    0.04    0.00    \n",
      "Test time         0.28    0.29    0.32    0.28    0.32    0.30    0.02    \n",
      "Computing the msd similarity matrix...\n",
      "Done computing similarity matrix.\n",
      "Computing the msd similarity matrix...\n",
      "Done computing similarity matrix.\n",
      "Computing the msd similarity matrix...\n",
      "Done computing similarity matrix.\n",
      "Computing the msd similarity matrix...\n",
      "Done computing similarity matrix.\n",
      "Computing the msd similarity matrix...\n",
      "Done computing similarity matrix.\n",
      "Evaluating RMSE, MAE of algorithm KNNBasic on 5 split(s).\n",
      "\n",
      "                  Fold 1  Fold 2  Fold 3  Fold 4  Fold 5  Mean    Std     \n",
      "RMSE (testset)    0.9452  0.9435  0.9368  0.9389  0.9332  0.9395  0.0044  \n",
      "MAE (testset)     0.7220  0.7221  0.7137  0.7190  0.7145  0.7182  0.0036  \n",
      "Fit time          0.03    0.04    0.04    0.04    0.04    0.04    0.00    \n",
      "Test time         0.34    0.34    0.39    0.33    0.37    0.35    0.02    \n",
      "Computing the msd similarity matrix...\n",
      "Done computing similarity matrix.\n",
      "Computing the msd similarity matrix...\n",
      "Done computing similarity matrix.\n",
      "Computing the msd similarity matrix...\n",
      "Done computing similarity matrix.\n",
      "Computing the msd similarity matrix...\n",
      "Done computing similarity matrix.\n",
      "Computing the msd similarity matrix...\n",
      "Done computing similarity matrix.\n",
      "Evaluating RMSE, MAE of algorithm KNNBasic on 5 split(s).\n",
      "\n",
      "                  Fold 1  Fold 2  Fold 3  Fold 4  Fold 5  Mean    Std     \n",
      "RMSE (testset)    0.9497  0.9530  0.9542  0.9460  0.9445  0.9495  0.0038  \n",
      "MAE (testset)     0.7275  0.7322  0.7315  0.7241  0.7249  0.7280  0.0033  \n",
      "Fit time          0.03    0.04    0.04    0.04    0.04    0.04    0.00    \n",
      "Test time         0.40    0.40    0.46    0.40    0.45    0.42    0.03    \n",
      "Computing the msd similarity matrix...\n",
      "Done computing similarity matrix.\n",
      "Computing the msd similarity matrix...\n",
      "Done computing similarity matrix.\n",
      "Computing the msd similarity matrix...\n",
      "Done computing similarity matrix.\n",
      "Computing the msd similarity matrix...\n",
      "Done computing similarity matrix.\n",
      "Computing the msd similarity matrix...\n",
      "Done computing similarity matrix.\n",
      "Evaluating RMSE, MAE of algorithm KNNBasic on 5 split(s).\n",
      "\n",
      "                  Fold 1  Fold 2  Fold 3  Fold 4  Fold 5  Mean    Std     \n",
      "RMSE (testset)    0.9541  0.9512  0.9532  0.9605  0.9533  0.9545  0.0032  \n",
      "MAE (testset)     0.7310  0.7332  0.7362  0.7340  0.7340  0.7337  0.0017  \n",
      "Fit time          0.03    0.04    0.04    0.04    0.04    0.04    0.00    \n",
      "Test time         0.41    0.46    0.42    0.42    0.45    0.43    0.02    \n",
      "Best k: 20.0\n"
     ]
    }
   ],
   "source": [
    "from surprise import KNNBasic\n",
    "from surprise import Dataset \n",
    "from surprise import Reader\n",
    "from surprise.model_selection import cross_validate\n",
    "import numpy as np\n",
    "import pandas as pd\n",
    "from sklearn.feature_extraction.text import CountVectorizer\n",
    "\n",
    "# Load small MovieLens 100K dataset based off movie tags (tags.csv file) \n",
    "data = pd.read_csv('tags.csv')\n",
    "\n",
    "# group tags by movieID \n",
    "movie_tags = data.groupby('movieId')['tag'].apply(' '.join).reset_index()\n",
    "\n",
    "# using similar to bag-of-words for movie tags\n",
    "vectorizer = CountVectorizer(stop_words='english')\n",
    "tag_features = vectorizer.fit_transform(movie_tags['tag'].values)\n",
    "\n",
    "# Hyperparameter analysis function \n",
    "def analyze_knn_hyperparameters():\n",
    "\n",
    "    # load ratings from ratings.csv\n",
    "    ratings = pd.read_csv('ratings.csv')\n",
    "    reader = Reader(rating_scale=(1, 5))\n",
    "    data = Dataset.load_from_df(ratings[['userId', 'movieId', 'rating']], reader)\n",
    "\n",
    "    # range of k values \n",
    "    k_values = [1, 5, 10, 20, 50, 100]\n",
    "\n",
    "    # store results \n",
    "    results = []\n",
    "\n",
    "    # Iterate over k values \n",
    "    for k in k_values:\n",
    "        algo = KNNBasic(k=k)\n",
    "\n",
    "        # run 5-fold cross-validation \n",
    "        cv_results = cross_validate(algo, data, measures=['RMSE', 'MAE'], cv=5, verbose=True)\n",
    "\n",
    "        # Store mean RMSE result\n",
    "        results.append({\n",
    "            'k': k,\n",
    "            'Mean RMSE': np.mean(cv_results['test_rmse'])\n",
    "        })\n",
    "\n",
    "    # convert to dataframe \n",
    "    results_df = pd.DataFrame(results)\n",
    "\n",
    "    # sort by RMSE\n",
    "    best_k = results_df.sort_values(by='Mean RMSE').iloc[0]['k']\n",
    "    print(f'Best k: {best_k}')\n",
    "\n",
    "    # return results\n",
    "    return results_df\n",
    "\n",
    "# Run hyperparameter analysis\n",
    "analysis_results = analyze_knn_hyperparameters()    \n",
    "\n"
   ]
  },
  {
   "cell_type": "markdown",
   "metadata": {},
   "source": [
    "## SVD"
   ]
  },
  {
   "cell_type": "markdown",
   "metadata": {},
   "source": [
    "## Matrix Factorization W/ Regularization"
   ]
  },
  {
   "cell_type": "markdown",
   "metadata": {},
   "source": [
    "## Deep Neural Network"
   ]
  },
  {
   "cell_type": "markdown",
   "metadata": {},
   "source": [
    "## Compare Algorithms "
   ]
  }
 ],
 "metadata": {
  "kernelspec": {
   "display_name": "base",
   "language": "python",
   "name": "python3"
  },
  "language_info": {
   "codemirror_mode": {
    "name": "ipython",
    "version": 3
   },
   "file_extension": ".py",
   "mimetype": "text/x-python",
   "name": "python",
   "nbconvert_exporter": "python",
   "pygments_lexer": "ipython3",
   "version": "3.11.5"
  }
 },
 "nbformat": 4,
 "nbformat_minor": 2
}
