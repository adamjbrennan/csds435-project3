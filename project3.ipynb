{
 "cells": [
  {
   "cell_type": "markdown",
   "metadata": {},
   "source": [
    "### Install missing packages to kernel...\n"
   ]
  },
  {
   "cell_type": "code",
   "execution_count": null,
   "metadata": {},
   "outputs": [],
   "source": []
  },
  {
   "cell_type": "markdown",
   "metadata": {},
   "source": [
    "### Import packages..."
   ]
  },
  {
   "cell_type": "code",
   "execution_count": null,
   "metadata": {},
   "outputs": [],
   "source": []
  },
  {
   "cell_type": "markdown",
   "metadata": {},
   "source": [
    "# CSDS-435: Project #3\n",
    "# Adam Brennan and Madi Edge"
   ]
  },
  {
   "cell_type": "markdown",
   "metadata": {},
   "source": [
    "## Helper Functions..."
   ]
  },
  {
   "cell_type": "code",
   "execution_count": null,
   "metadata": {},
   "outputs": [],
   "source": []
  },
  {
   "cell_type": "code",
   "execution_count": null,
   "metadata": {},
   "outputs": [],
   "source": []
  },
  {
   "cell_type": "code",
   "execution_count": null,
   "metadata": {},
   "outputs": [],
   "source": []
  },
  {
   "cell_type": "code",
   "execution_count": null,
   "metadata": {},
   "outputs": [],
   "source": []
  },
  {
   "cell_type": "code",
   "execution_count": null,
   "metadata": {},
   "outputs": [],
   "source": []
  },
  {
   "cell_type": "code",
   "execution_count": null,
   "metadata": {},
   "outputs": [],
   "source": []
  },
  {
   "cell_type": "code",
   "execution_count": null,
   "metadata": {},
   "outputs": [],
   "source": []
  },
  {
   "cell_type": "code",
   "execution_count": null,
   "metadata": {},
   "outputs": [],
   "source": []
  },
  {
   "cell_type": "code",
   "execution_count": null,
   "metadata": {},
   "outputs": [],
   "source": []
  },
  {
   "cell_type": "code",
   "execution_count": null,
   "metadata": {},
   "outputs": [],
   "source": []
  },
  {
   "cell_type": "code",
   "execution_count": null,
   "metadata": {},
   "outputs": [],
   "source": []
  },
  {
   "cell_type": "code",
   "execution_count": null,
   "metadata": {},
   "outputs": [],
   "source": []
  },
  {
   "cell_type": "code",
   "execution_count": null,
   "metadata": {},
   "outputs": [],
   "source": []
  },
  {
   "cell_type": "code",
   "execution_count": null,
   "metadata": {},
   "outputs": [],
   "source": []
  },
  {
   "cell_type": "code",
   "execution_count": null,
   "metadata": {},
   "outputs": [],
   "source": []
  },
  {
   "cell_type": "markdown",
   "metadata": {},
   "source": [
    "## Random"
   ]
  },
  {
   "cell_type": "code",
   "execution_count": 9,
   "metadata": {},
   "outputs": [
    {
     "name": "stdout",
     "output_type": "stream",
     "text": [
      "Evaluating RMSE, MAE of algorithm NormalPredictor on 5 split(s).\n",
      "\n",
      "                  Fold 1  Fold 2  Fold 3  Fold 4  Fold 5  Mean    Std     \n",
      "RMSE (testset)    1.5114  1.5198  1.5269  1.5113  1.5249  1.5189  0.0065  \n",
      "MAE (testset)     1.2144  1.2199  1.2237  1.2151  1.2270  1.2200  0.0049  \n",
      "Fit time          0.03    0.03    0.03    0.03    0.03    0.03    0.00    \n",
      "Test time         0.03    0.02    0.02    0.02    0.08    0.04    0.02    \n",
      "Evaluating RMSE, MAE of algorithm NormalPredictor on 5 split(s).\n",
      "\n",
      "                  Fold 1  Fold 2  Fold 3  Fold 4  Fold 5  Mean    Std     \n",
      "RMSE (testset)    1.5199  1.5182  1.5132  1.5242  1.5018  1.5155  0.0077  \n",
      "MAE (testset)     1.2216  1.2161  1.2119  1.2254  1.2071  1.2164  0.0066  \n",
      "Fit time          0.03    0.04    0.03    0.03    0.03    0.03    0.00    \n",
      "Test time         0.02    0.02    0.02    0.09    0.03    0.04    0.02    \n",
      "Evaluating RMSE, MAE of algorithm NormalPredictor on 5 split(s).\n",
      "\n",
      "                  Fold 1  Fold 2  Fold 3  Fold 4  Fold 5  Mean    Std     \n",
      "RMSE (testset)    1.5278  1.5238  1.5331  1.5065  1.5241  1.5230  0.0089  \n",
      "MAE (testset)     1.2257  1.2231  1.2346  1.2086  1.2263  1.2237  0.0085  \n",
      "Fit time          0.03    0.03    0.04    0.03    0.03    0.03    0.00    \n",
      "Test time         0.02    0.02    0.03    0.09    0.02    0.04    0.03    \n",
      "Evaluating RMSE, MAE of algorithm NormalPredictor on 5 split(s).\n",
      "\n",
      "                  Fold 1  Fold 2  Fold 3  Fold 4  Fold 5  Mean    Std     \n",
      "RMSE (testset)    1.5195  1.5221  1.5200  1.5220  1.5282  1.5224  0.0031  \n",
      "MAE (testset)     1.2204  1.2225  1.2205  1.2222  1.2260  1.2223  0.0020  \n",
      "Fit time          0.03    0.03    0.03    0.03    0.03    0.03    0.00    \n",
      "Test time         0.02    0.03    0.08    0.02    0.02    0.04    0.02    \n",
      "Evaluating RMSE, MAE of algorithm NormalPredictor on 5 split(s).\n",
      "\n",
      "                  Fold 1  Fold 2  Fold 3  Fold 4  Fold 5  Mean    Std     \n",
      "RMSE (testset)    1.5134  1.5240  1.5269  1.5191  1.5281  1.5223  0.0054  \n",
      "MAE (testset)     1.2166  1.2212  1.2271  1.2202  1.2267  1.2223  0.0040  \n",
      "Fit time          0.03    0.03    0.03    0.03    0.03    0.03    0.00    \n",
      "Test time         0.02    0.02    0.08    0.02    0.02    0.04    0.02    \n",
      "Evaluating RMSE, MAE of algorithm NormalPredictor on 5 split(s).\n",
      "\n",
      "                  Fold 1  Fold 2  Fold 3  Fold 4  Fold 5  Mean    Std     \n",
      "RMSE (testset)    1.5236  1.5205  1.5241  1.5000  1.5271  1.5191  0.0097  \n",
      "MAE (testset)     1.2231  1.2211  1.2214  1.2026  1.2237  1.2184  0.0080  \n",
      "Fit time          0.03    0.03    0.03    0.03    0.03    0.03    0.00    \n",
      "Test time         0.02    0.02    0.08    0.02    0.02    0.04    0.02    \n",
      "Evaluating RMSE, MAE of algorithm NormalPredictor on 5 split(s).\n",
      "\n",
      "                  Fold 1  Fold 2  Fold 3  Fold 4  Fold 5  Mean    Std     \n",
      "RMSE (testset)    1.5139  1.5159  1.5260  1.5133  1.5166  1.5171  0.0046  \n",
      "MAE (testset)     1.2124  1.2198  1.2248  1.2149  1.2185  1.2181  0.0043  \n",
      "Fit time          0.03    0.03    0.03    0.03    0.03    0.03    0.00    \n",
      "Test time         0.02    0.08    0.02    0.02    0.02    0.04    0.02    \n",
      "Evaluating RMSE, MAE of algorithm NormalPredictor on 5 split(s).\n",
      "\n",
      "                  Fold 1  Fold 2  Fold 3  Fold 4  Fold 5  Mean    Std     \n",
      "RMSE (testset)    1.5095  1.5239  1.5207  1.5121  1.5234  1.5179  0.0060  \n",
      "MAE (testset)     1.2132  1.2249  1.2189  1.2125  1.2237  1.2186  0.0051  \n",
      "Fit time          0.03    0.03    0.03    0.03    0.03    0.03    0.00    \n",
      "Test time         0.02    0.08    0.02    0.03    0.02    0.04    0.02    \n",
      "Best seed: 2.0\n"
     ]
    }
   ],
   "source": [
    "from surprise import NormalPredictor \n",
    "from surprise import Dataset \n",
    "from surprise.model_selection import cross_validate\n",
    "import numpy as np\n",
    "import pandas as pd\n",
    "\n",
    "# Load small MovieLens 100K dataset \n",
    "data = Dataset.load_builtin('ml-100k')\n",
    "\n",
    "# Hyperparameter analysis function \n",
    "def analyze_rand_hyperparameters():\n",
    "    # Store results \n",
    "    results = [] \n",
    "\n",
    "    # Test different random seed values \n",
    "    seed_values = [1, 2, 42, 102, 163, 251, 337, 1024]\n",
    "\n",
    "    for seed in seed_values:\n",
    "        # random seed values \n",
    "        np.random.seed(seed)\n",
    "\n",
    "        # create predictor \n",
    "        predictor = NormalPredictor()\n",
    "\n",
    "        # run 5-fold cross-validation \n",
    "        cv_results = cross_validate(predictor, data, measures=['RMSE', 'MAE'], cv=5, verbose=True)\n",
    "\n",
    "        # Store mean RMSE result \n",
    "        results.append({\n",
    "            'seed': seed,\n",
    "            'Mean RMSE': np.mean(cv_results['test_rmse'])\n",
    "        }) \n",
    "\n",
    "    # convert to dataframe \n",
    "    results_df = pd.DataFrame(results)\n",
    "\n",
    "    # sort by RMSE\n",
    "    best_seed = results_df.sort_values(by='Mean RMSE').iloc[0]['seed']\n",
    "    print(f'Best seed: {best_seed}')\n",
    "\n",
    "    # return results\n",
    "    return results_df\n",
    "\n",
    "# Run hyperparameter analysis\n",
    "analysis_results = analyze_rand_hyperparameters() "
   ]
  },
  {
   "cell_type": "markdown",
   "metadata": {},
   "source": [
    "## KNN"
   ]
  },
  {
   "cell_type": "code",
   "execution_count": null,
   "metadata": {},
   "outputs": [
    {
     "name": "stdout",
     "output_type": "stream",
     "text": [
      "Computing the msd similarity matrix...\n",
      "Done computing similarity matrix.\n",
      "Computing the msd similarity matrix...\n",
      "Done computing similarity matrix.\n",
      "Computing the msd similarity matrix...\n",
      "Done computing similarity matrix.\n",
      "Computing the msd similarity matrix...\n",
      "Done computing similarity matrix.\n",
      "Computing the msd similarity matrix...\n",
      "Done computing similarity matrix.\n",
      "Evaluating RMSE, MAE of algorithm KNNWithMeans on 5 split(s).\n",
      "\n",
      "                  Fold 1  Fold 2  Fold 3  Fold 4  Fold 5  Mean    Std     \n",
      "RMSE (testset)    1.1104  1.1009  1.1136  1.1145  1.1095  1.1098  0.0048  \n",
      "MAE (testset)     0.8580  0.8451  0.8595  0.8601  0.8550  0.8555  0.0055  \n",
      "Fit time          0.04    0.04    0.05    0.05    0.04    0.05    0.01    \n",
      "Test time         0.32    0.22    0.20    0.22    0.22    0.24    0.04    \n",
      "Computing the msd similarity matrix...\n",
      "Done computing similarity matrix.\n",
      "Computing the msd similarity matrix...\n",
      "Done computing similarity matrix.\n",
      "Computing the msd similarity matrix...\n",
      "Done computing similarity matrix.\n",
      "Computing the msd similarity matrix...\n",
      "Done computing similarity matrix.\n",
      "Computing the msd similarity matrix...\n",
      "Done computing similarity matrix.\n",
      "Evaluating RMSE, MAE of algorithm KNNWithMeans on 5 split(s).\n",
      "\n",
      "                  Fold 1  Fold 2  Fold 3  Fold 4  Fold 5  Mean    Std     \n",
      "RMSE (testset)    0.9350  0.9271  0.9222  0.9277  0.9297  0.9283  0.0041  \n",
      "MAE (testset)     0.7158  0.7145  0.7079  0.7147  0.7175  0.7141  0.0033  \n",
      "Fit time          0.04    0.05    0.04    0.04    0.04    0.04    0.00    \n",
      "Test time         0.29    0.28    0.34    0.28    0.27    0.29    0.02    \n",
      "Computing the msd similarity matrix...\n",
      "Done computing similarity matrix.\n",
      "Computing the msd similarity matrix...\n",
      "Done computing similarity matrix.\n",
      "Computing the msd similarity matrix...\n",
      "Done computing similarity matrix.\n",
      "Computing the msd similarity matrix...\n",
      "Done computing similarity matrix.\n",
      "Computing the msd similarity matrix...\n",
      "Done computing similarity matrix.\n",
      "Evaluating RMSE, MAE of algorithm KNNWithMeans on 5 split(s).\n",
      "\n",
      "                  Fold 1  Fold 2  Fold 3  Fold 4  Fold 5  Mean    Std     \n",
      "RMSE (testset)    0.9007  0.8989  0.9121  0.9120  0.9045  0.9057  0.0055  \n",
      "MAE (testset)     0.6917  0.6879  0.6984  0.7001  0.6971  0.6950  0.0045  \n",
      "Fit time          0.04    0.04    0.04    0.05    0.04    0.04    0.00    \n",
      "Test time         0.32    0.32    0.33    0.33    0.38    0.33    0.02    \n",
      "Computing the msd similarity matrix...\n",
      "Done computing similarity matrix.\n",
      "Computing the msd similarity matrix...\n",
      "Done computing similarity matrix.\n",
      "Computing the msd similarity matrix...\n",
      "Done computing similarity matrix.\n",
      "Computing the msd similarity matrix...\n",
      "Done computing similarity matrix.\n",
      "Computing the msd similarity matrix...\n",
      "Done computing similarity matrix.\n",
      "Evaluating RMSE, MAE of algorithm KNNWithMeans on 5 split(s).\n",
      "\n",
      "                  Fold 1  Fold 2  Fold 3  Fold 4  Fold 5  Mean    Std     \n",
      "RMSE (testset)    0.9011  0.8927  0.9112  0.8915  0.8911  0.8975  0.0077  \n",
      "MAE (testset)     0.6903  0.6820  0.6953  0.6832  0.6839  0.6869  0.0051  \n",
      "Fit time          0.04    0.04    0.04    0.04    0.05    0.04    0.00    \n",
      "Test time         0.38    0.39    0.45    0.38    0.38    0.40    0.03    \n",
      "Computing the msd similarity matrix...\n",
      "Done computing similarity matrix.\n",
      "Computing the msd similarity matrix...\n",
      "Done computing similarity matrix.\n",
      "Computing the msd similarity matrix...\n",
      "Done computing similarity matrix.\n",
      "Computing the msd similarity matrix...\n",
      "Done computing similarity matrix.\n",
      "Computing the msd similarity matrix...\n",
      "Done computing similarity matrix.\n",
      "Evaluating RMSE, MAE of algorithm KNNWithMeans on 5 split(s).\n",
      "\n",
      "                  Fold 1  Fold 2  Fold 3  Fold 4  Fold 5  Mean    Std     \n",
      "RMSE (testset)    0.9011  0.8904  0.8980  0.8906  0.9022  0.8964  0.0051  \n",
      "MAE (testset)     0.6868  0.6813  0.6875  0.6808  0.6895  0.6852  0.0035  \n",
      "Fit time          0.04    0.05    0.05    0.05    0.05    0.04    0.00    \n",
      "Test time         0.52    0.54    0.48    0.49    0.53    0.51    0.02    \n",
      "Computing the msd similarity matrix...\n",
      "Done computing similarity matrix.\n",
      "Computing the msd similarity matrix...\n",
      "Done computing similarity matrix.\n",
      "Computing the msd similarity matrix...\n",
      "Done computing similarity matrix.\n",
      "Computing the msd similarity matrix...\n",
      "Done computing similarity matrix.\n",
      "Computing the msd similarity matrix...\n",
      "Done computing similarity matrix.\n",
      "Evaluating RMSE, MAE of algorithm KNNWithMeans on 5 split(s).\n",
      "\n",
      "                  Fold 1  Fold 2  Fold 3  Fold 4  Fold 5  Mean    Std     \n",
      "RMSE (testset)    0.8871  0.8971  0.9023  0.8990  0.9005  0.8972  0.0053  \n",
      "MAE (testset)     0.6791  0.6831  0.6888  0.6849  0.6884  0.6849  0.0036  \n",
      "Fit time          0.04    0.04    0.04    0.04    0.04    0.04    0.00    \n",
      "Test time         0.51    0.51    0.51    0.56    0.54    0.53    0.02    \n",
      "Best k: 50.0\n"
     ]
    }
   ],
   "source": [
    "from surprise import KNNWithMeans\n",
    "from surprise import Dataset \n",
    "from surprise import Reader\n",
    "from surprise.model_selection import cross_validate\n",
    "import numpy as np\n",
    "import pandas as pd\n",
    "from sklearn.feature_extraction.text import CountVectorizer\n",
    "\n",
    "# Load small MovieLens 100K dataset based off movie tags (tags.csv file) \n",
    "data = pd.read_csv('tags.csv')\n",
    "\n",
    "# group tags by movieID \n",
    "movie_tags = data.groupby('movieId')['tag'].apply(' '.join).reset_index()\n",
    "\n",
    "# using similar to bag-of-words for movie tags\n",
    "vectorizer = CountVectorizer(stop_words='english')\n",
    "tag_features = vectorizer.fit_transform(movie_tags['tag'].values)\n",
    "\n",
    "# Hyperparameter analysis function \n",
    "def analyze_knn_hyperparameters():\n",
    "\n",
    "    # load ratings from ratings.csv\n",
    "    ratings = pd.read_csv('ratings.csv')\n",
    "    reader = Reader(rating_scale=(1, 5))\n",
    "    data = Dataset.load_from_df(ratings[['userId', 'movieId', 'rating']], reader)\n",
    "\n",
    "    # range of k values \n",
    "    k_values = [1, 5, 10, 20, 50, 100]\n",
    "\n",
    "    # store results \n",
    "    results = []\n",
    "\n",
    "    # Iterate over k values \n",
    "    for k in k_values:\n",
    "        algo = KNNWithMeans(k=k)\n",
    "\n",
    "        # run 5-fold cross-validation \n",
    "        cv_results = cross_validate(algo, data, measures=['RMSE', 'MAE'], cv=5, verbose=True)\n",
    "\n",
    "        # Store mean RMSE result\n",
    "        results.append({\n",
    "            'k': k,\n",
    "            'Mean RMSE': np.mean(cv_results['test_rmse'])\n",
    "        })\n",
    "\n",
    "    # convert to dataframe \n",
    "    results_df = pd.DataFrame(results)\n",
    "\n",
    "    # sort by RMSE\n",
    "    best_k = results_df.sort_values(by='Mean RMSE').iloc[0]['k']\n",
    "    print(f'Best k: {best_k}')\n",
    "\n",
    "    # return results\n",
    "    return results_df\n",
    "\n",
    "# Run hyperparameter analysis\n",
    "analysis_results = analyze_knn_hyperparameters()    \n",
    "\n"
   ]
  },
  {
   "cell_type": "markdown",
   "metadata": {},
   "source": [
    "## SVD"
   ]
  },
  {
   "cell_type": "markdown",
   "metadata": {},
   "source": [
    "## Matrix Factorization W/ Regularization"
   ]
  },
  {
   "cell_type": "markdown",
   "metadata": {},
   "source": [
    "## Deep Neural Network"
   ]
  },
  {
   "cell_type": "markdown",
   "metadata": {},
   "source": [
    "## Compare Algorithms "
   ]
  }
 ],
 "metadata": {
  "kernelspec": {
   "display_name": "base",
   "language": "python",
   "name": "python3"
  },
  "language_info": {
   "codemirror_mode": {
    "name": "ipython",
    "version": 3
   },
   "file_extension": ".py",
   "mimetype": "text/x-python",
   "name": "python",
   "nbconvert_exporter": "python",
   "pygments_lexer": "ipython3",
   "version": "3.11.5"
  }
 },
 "nbformat": 4,
 "nbformat_minor": 2
}
